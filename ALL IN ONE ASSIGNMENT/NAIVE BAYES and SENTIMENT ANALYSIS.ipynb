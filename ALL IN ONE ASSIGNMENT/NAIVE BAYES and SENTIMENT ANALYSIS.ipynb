{
 "cells": [
  {
   "cell_type": "raw",
   "id": "7b1d3484-37be-44ad-bd50-dcbd038c9c75",
   "metadata": {},
   "source": [
    "Text Classification using Naive Bayes and Sentiment Analysis on Blog Posts\n",
    "Overview\n",
    "In this assignment, you will work on the \"blogs_categories.csv\" dataset, which contains blog posts categorized into various themes. Your task will be to build a text classification model using the Naive Bayes algorithm to categorize the blog posts accurately. Furthermore, you will perform sentiment analysis to understand the general sentiment (positive, negative, neutral) expressed in these posts. This assignment will enhance your understanding of text classification, sentiment analysis, and the practical application of the Naive Bayes algorithm in Natural Language Processing (NLP).\n",
    "Dataset\n",
    "The provided dataset, \"blogs_categories.csv\", consists of blog posts along with their associated categories. Each row represents a blog post with the following columns:\n",
    "Text: The content of the blog post. Column name: Data\n",
    "Category: The category to which the blog post belongs. Column name: Labels\n",
    "Tasks\n",
    "1. Data Exploration and Preprocessing\n",
    "Load the \"blogs_categories.csv\" dataset and perform an exploratory data analysis to understand its structure and content.\n",
    "Preprocess the data by cleaning the text (removing punctuation, converting to lowercase, etc.), tokenizing, and removing stopwords.\n",
    "Perform feature extraction to convert text data into a format that can be used by the Naive Bayes model, using techniques such as TF-IDF.\n",
    "2. Naive Bayes Model for Text Classification\n",
    "Split the data into training and test sets.\n",
    "Implement a Naive Bayes classifier to categorize the blog posts into their respective categories. You can use libraries like scikit-learn for this purpose.\n",
    "Train the model on the training set and make predictions on the test set.\n",
    "3. Sentiment Analysis\n",
    "Choose a suitable library or method for performing sentiment analysis on the blog post texts.\n",
    "Analyze the sentiments expressed in the blog posts and categorize them as positive, negative, or neutral. Consider only the Data column and get the sentiment for each blog.\n",
    "Examine the distribution of sentiments across different categories and summarize your findings.\n",
    "4. Evaluation\n",
    "Evaluate the performance of your Naive Bayes classifier using metrics such as accuracy, precision, recall, and F1-score.\n",
    "Discuss the performance of the model and any challenges encountered during the classification process.\n",
    "Reflect on the sentiment analysis results and their implications regarding the content of the blog posts.\n",
    "Submission Guidelines\n",
    "Your submission should include a comprehensive report and the complete codebase.\n",
    "Your code should be well-documented and include comments explaining the major steps.\n",
    "Evaluation Criteria\n",
    "Correct implementation of data preprocessing and feature extraction.\n",
    "Accuracy and robustness of the Naive Bayes classification model.\n",
    "Depth and insightfulness of the sentiment analysis.\n",
    "Clarity and thoroughness of the evaluation and discussion sections.\n",
    "Overall quality and organization of the report and code.\n",
    "Good luck, and we look forward to your insightful analysis of the blog posts dataset!\n"
   ]
  },
  {
   "cell_type": "code",
   "execution_count": 15,
   "id": "cf86c4ca-7941-41d4-bfec-5398e30eb92e",
   "metadata": {},
   "outputs": [],
   "source": [
    "import pandas as pd\n",
    "import re"
   ]
  },
  {
   "cell_type": "code",
   "execution_count": 18,
   "id": "760da143-839d-4535-8d7d-1509c95cede0",
   "metadata": {},
   "outputs": [
    {
     "data": {
      "text/html": [
       "<div>\n",
       "<style scoped>\n",
       "    .dataframe tbody tr th:only-of-type {\n",
       "        vertical-align: middle;\n",
       "    }\n",
       "\n",
       "    .dataframe tbody tr th {\n",
       "        vertical-align: top;\n",
       "    }\n",
       "\n",
       "    .dataframe thead th {\n",
       "        text-align: right;\n",
       "    }\n",
       "</style>\n",
       "<table border=\"1\" class=\"dataframe\">\n",
       "  <thead>\n",
       "    <tr style=\"text-align: right;\">\n",
       "      <th></th>\n",
       "      <th>Data</th>\n",
       "      <th>Labels</th>\n",
       "    </tr>\n",
       "  </thead>\n",
       "  <tbody>\n",
       "    <tr>\n",
       "      <th>0</th>\n",
       "      <td>Path: cantaloupe.srv.cs.cmu.edu!magnesium.club...</td>\n",
       "      <td>alt.atheism</td>\n",
       "    </tr>\n",
       "    <tr>\n",
       "      <th>1</th>\n",
       "      <td>Newsgroups: alt.atheism\\nPath: cantaloupe.srv....</td>\n",
       "      <td>alt.atheism</td>\n",
       "    </tr>\n",
       "    <tr>\n",
       "      <th>2</th>\n",
       "      <td>Path: cantaloupe.srv.cs.cmu.edu!das-news.harva...</td>\n",
       "      <td>alt.atheism</td>\n",
       "    </tr>\n",
       "    <tr>\n",
       "      <th>3</th>\n",
       "      <td>Path: cantaloupe.srv.cs.cmu.edu!magnesium.club...</td>\n",
       "      <td>alt.atheism</td>\n",
       "    </tr>\n",
       "    <tr>\n",
       "      <th>4</th>\n",
       "      <td>Xref: cantaloupe.srv.cs.cmu.edu alt.atheism:53...</td>\n",
       "      <td>alt.atheism</td>\n",
       "    </tr>\n",
       "    <tr>\n",
       "      <th>5</th>\n",
       "      <td>Xref: cantaloupe.srv.cs.cmu.edu talk.abortion:...</td>\n",
       "      <td>alt.atheism</td>\n",
       "    </tr>\n",
       "    <tr>\n",
       "      <th>6</th>\n",
       "      <td>Newsgroups: alt.atheism\\nPath: cantaloupe.srv....</td>\n",
       "      <td>alt.atheism</td>\n",
       "    </tr>\n",
       "    <tr>\n",
       "      <th>7</th>\n",
       "      <td>Path: cantaloupe.srv.cs.cmu.edu!das-news.harva...</td>\n",
       "      <td>alt.atheism</td>\n",
       "    </tr>\n",
       "    <tr>\n",
       "      <th>8</th>\n",
       "      <td>Xref: cantaloupe.srv.cs.cmu.edu talk.abortion:...</td>\n",
       "      <td>alt.atheism</td>\n",
       "    </tr>\n",
       "    <tr>\n",
       "      <th>9</th>\n",
       "      <td>Newsgroups: alt.atheism\\nPath: cantaloupe.srv....</td>\n",
       "      <td>alt.atheism</td>\n",
       "    </tr>\n",
       "  </tbody>\n",
       "</table>\n",
       "</div>"
      ],
      "text/plain": [
       "                                                Data       Labels\n",
       "0  Path: cantaloupe.srv.cs.cmu.edu!magnesium.club...  alt.atheism\n",
       "1  Newsgroups: alt.atheism\\nPath: cantaloupe.srv....  alt.atheism\n",
       "2  Path: cantaloupe.srv.cs.cmu.edu!das-news.harva...  alt.atheism\n",
       "3  Path: cantaloupe.srv.cs.cmu.edu!magnesium.club...  alt.atheism\n",
       "4  Xref: cantaloupe.srv.cs.cmu.edu alt.atheism:53...  alt.atheism\n",
       "5  Xref: cantaloupe.srv.cs.cmu.edu talk.abortion:...  alt.atheism\n",
       "6  Newsgroups: alt.atheism\\nPath: cantaloupe.srv....  alt.atheism\n",
       "7  Path: cantaloupe.srv.cs.cmu.edu!das-news.harva...  alt.atheism\n",
       "8  Xref: cantaloupe.srv.cs.cmu.edu talk.abortion:...  alt.atheism\n",
       "9  Newsgroups: alt.atheism\\nPath: cantaloupe.srv....  alt.atheism"
      ]
     },
     "execution_count": 18,
     "metadata": {},
     "output_type": "execute_result"
    }
   ],
   "source": [
    "data=pd.read_csv('blogs.csv')\n",
    "data.head(10)"
   ]
  },
  {
   "cell_type": "markdown",
   "id": "f4dc6218-cf70-4336-b9e5-a7504b52d307",
   "metadata": {},
   "source": [
    "## Data Exploration and Preprocessing"
   ]
  },
  {
   "cell_type": "code",
   "execution_count": 19,
   "id": "38247029-82e8-45ca-abca-72f4830890de",
   "metadata": {},
   "outputs": [
    {
     "data": {
      "text/plain": [
       "(2000, 2)"
      ]
     },
     "execution_count": 19,
     "metadata": {},
     "output_type": "execute_result"
    }
   ],
   "source": [
    "data.shape"
   ]
  },
  {
   "cell_type": "code",
   "execution_count": 20,
   "id": "21ba461b-a363-464a-af04-6c09138f97ed",
   "metadata": {},
   "outputs": [
    {
     "data": {
      "text/plain": [
       "Labels\n",
       "alt.atheism                 100\n",
       "comp.graphics               100\n",
       "talk.politics.misc          100\n",
       "talk.politics.mideast       100\n",
       "talk.politics.guns          100\n",
       "soc.religion.christian      100\n",
       "sci.space                   100\n",
       "sci.med                     100\n",
       "sci.electronics             100\n",
       "sci.crypt                   100\n",
       "rec.sport.hockey            100\n",
       "rec.sport.baseball          100\n",
       "rec.motorcycles             100\n",
       "rec.autos                   100\n",
       "misc.forsale                100\n",
       "comp.windows.x              100\n",
       "comp.sys.mac.hardware       100\n",
       "comp.sys.ibm.pc.hardware    100\n",
       "comp.os.ms-windows.misc     100\n",
       "talk.religion.misc          100\n",
       "Name: count, dtype: int64"
      ]
     },
     "execution_count": 20,
     "metadata": {},
     "output_type": "execute_result"
    }
   ],
   "source": [
    "data['Labels'].value_counts()"
   ]
  },
  {
   "cell_type": "code",
   "execution_count": 21,
   "id": "fa1a6cfd-0784-466b-9888-b2c9a8978d28",
   "metadata": {},
   "outputs": [
    {
     "data": {
      "text/plain": [
       "array(['alt.atheism', 'comp.graphics', 'comp.os.ms-windows.misc',\n",
       "       'comp.sys.ibm.pc.hardware', 'comp.sys.mac.hardware',\n",
       "       'comp.windows.x', 'misc.forsale', 'rec.autos', 'rec.motorcycles',\n",
       "       'rec.sport.baseball', 'rec.sport.hockey', 'sci.crypt',\n",
       "       'sci.electronics', 'sci.med', 'sci.space',\n",
       "       'soc.religion.christian', 'talk.politics.guns',\n",
       "       'talk.politics.mideast', 'talk.politics.misc',\n",
       "       'talk.religion.misc'], dtype=object)"
      ]
     },
     "execution_count": 21,
     "metadata": {},
     "output_type": "execute_result"
    }
   ],
   "source": [
    "data['Labels'].unique()"
   ]
  },
  {
   "cell_type": "code",
   "execution_count": 22,
   "id": "fd263d2e-5900-4b02-bdef-529fdd961621",
   "metadata": {},
   "outputs": [],
   "source": [
    "def preprocess_text(text):\n",
    "    text = text.lower()\n",
    "    text = re.sub(r'[^\\w\\s]', '', text)\n",
    "    return text\n",
    "\n",
    "data['Data'] = data['Data'].apply(preprocess_text)"
   ]
  },
  {
   "cell_type": "code",
   "execution_count": 24,
   "id": "0607d6b0-cced-42f5-9ef4-5f125bcea399",
   "metadata": {},
   "outputs": [
    {
     "data": {
      "text/html": [
       "<div>\n",
       "<style scoped>\n",
       "    .dataframe tbody tr th:only-of-type {\n",
       "        vertical-align: middle;\n",
       "    }\n",
       "\n",
       "    .dataframe tbody tr th {\n",
       "        vertical-align: top;\n",
       "    }\n",
       "\n",
       "    .dataframe thead th {\n",
       "        text-align: right;\n",
       "    }\n",
       "</style>\n",
       "<table border=\"1\" class=\"dataframe\">\n",
       "  <thead>\n",
       "    <tr style=\"text-align: right;\">\n",
       "      <th></th>\n",
       "      <th>Data</th>\n",
       "      <th>Labels</th>\n",
       "    </tr>\n",
       "  </thead>\n",
       "  <tbody>\n",
       "    <tr>\n",
       "      <th>0</th>\n",
       "      <td>path cantaloupesrvcscmuedumagnesiumclubcccmued...</td>\n",
       "      <td>alt.atheism</td>\n",
       "    </tr>\n",
       "    <tr>\n",
       "      <th>1</th>\n",
       "      <td>newsgroups altatheism\\npath cantaloupesrvcscmu...</td>\n",
       "      <td>alt.atheism</td>\n",
       "    </tr>\n",
       "    <tr>\n",
       "      <th>2</th>\n",
       "      <td>path cantaloupesrvcscmuedudasnewsharvardedunoc...</td>\n",
       "      <td>alt.atheism</td>\n",
       "    </tr>\n",
       "    <tr>\n",
       "      <th>3</th>\n",
       "      <td>path cantaloupesrvcscmuedumagnesiumclubcccmued...</td>\n",
       "      <td>alt.atheism</td>\n",
       "    </tr>\n",
       "    <tr>\n",
       "      <th>4</th>\n",
       "      <td>xref cantaloupesrvcscmuedu altatheism53485 tal...</td>\n",
       "      <td>alt.atheism</td>\n",
       "    </tr>\n",
       "    <tr>\n",
       "      <th>...</th>\n",
       "      <td>...</td>\n",
       "      <td>...</td>\n",
       "    </tr>\n",
       "    <tr>\n",
       "      <th>1995</th>\n",
       "      <td>xref cantaloupesrvcscmuedu talkabortion120945 ...</td>\n",
       "      <td>talk.religion.misc</td>\n",
       "    </tr>\n",
       "    <tr>\n",
       "      <th>1996</th>\n",
       "      <td>xref cantaloupesrvcscmuedu talkreligionmisc837...</td>\n",
       "      <td>talk.religion.misc</td>\n",
       "    </tr>\n",
       "    <tr>\n",
       "      <th>1997</th>\n",
       "      <td>xref cantaloupesrvcscmuedu talkorigins41030 ta...</td>\n",
       "      <td>talk.religion.misc</td>\n",
       "    </tr>\n",
       "    <tr>\n",
       "      <th>1998</th>\n",
       "      <td>xref cantaloupesrvcscmuedu talkreligionmisc836...</td>\n",
       "      <td>talk.religion.misc</td>\n",
       "    </tr>\n",
       "    <tr>\n",
       "      <th>1999</th>\n",
       "      <td>xref cantaloupesrvcscmuedu sciskeptic43561 tal...</td>\n",
       "      <td>talk.religion.misc</td>\n",
       "    </tr>\n",
       "  </tbody>\n",
       "</table>\n",
       "<p>2000 rows × 2 columns</p>\n",
       "</div>"
      ],
      "text/plain": [
       "                                                   Data              Labels\n",
       "0     path cantaloupesrvcscmuedumagnesiumclubcccmued...         alt.atheism\n",
       "1     newsgroups altatheism\\npath cantaloupesrvcscmu...         alt.atheism\n",
       "2     path cantaloupesrvcscmuedudasnewsharvardedunoc...         alt.atheism\n",
       "3     path cantaloupesrvcscmuedumagnesiumclubcccmued...         alt.atheism\n",
       "4     xref cantaloupesrvcscmuedu altatheism53485 tal...         alt.atheism\n",
       "...                                                 ...                 ...\n",
       "1995  xref cantaloupesrvcscmuedu talkabortion120945 ...  talk.religion.misc\n",
       "1996  xref cantaloupesrvcscmuedu talkreligionmisc837...  talk.religion.misc\n",
       "1997  xref cantaloupesrvcscmuedu talkorigins41030 ta...  talk.religion.misc\n",
       "1998  xref cantaloupesrvcscmuedu talkreligionmisc836...  talk.religion.misc\n",
       "1999  xref cantaloupesrvcscmuedu sciskeptic43561 tal...  talk.religion.misc\n",
       "\n",
       "[2000 rows x 2 columns]"
      ]
     },
     "execution_count": 24,
     "metadata": {},
     "output_type": "execute_result"
    }
   ],
   "source": [
    "data"
   ]
  },
  {
   "cell_type": "code",
   "execution_count": 23,
   "id": "02e180dd-15aa-40de-a9e6-9da5e436d4f8",
   "metadata": {},
   "outputs": [],
   "source": [
    "# Feature Extraction using TF-IDF\n",
    "X = data['Data']\n",
    "y = data['Labels']"
   ]
  },
  {
   "cell_type": "code",
   "execution_count": 25,
   "id": "561377fd-c824-4140-9372-ddefaac56ecd",
   "metadata": {},
   "outputs": [],
   "source": [
    "from sklearn.feature_extraction.text import TfidfVectorizer\n",
    "vectorizer = TfidfVectorizer()"
   ]
  },
  {
   "cell_type": "code",
   "execution_count": 26,
   "id": "ce1cbda3-e3cf-48cd-b510-fbec86bd663c",
   "metadata": {},
   "outputs": [],
   "source": [
    "tfidf_vectorizer = TfidfVectorizer(max_features=1000)  \n",
    "X_tfidf = tfidf_vectorizer.fit_transform(X)"
   ]
  },
  {
   "cell_type": "code",
   "execution_count": 28,
   "id": "9776c28c-cec0-4b9c-b712-648668a6ec98",
   "metadata": {},
   "outputs": [],
   "source": [
    "from sklearn.model_selection import train_test_split"
   ]
  },
  {
   "cell_type": "code",
   "execution_count": 29,
   "id": "f131aa74-38ae-4593-bb32-12a1f15e61ec",
   "metadata": {},
   "outputs": [],
   "source": [
    "# Split the data into training and test sets\n",
    "X_train, X_test, y_train, y_test = train_test_split(X_tfidf, y, test_size=0.2, random_state=42)"
   ]
  },
  {
   "cell_type": "markdown",
   "id": "242f18f1-61d3-467b-8d09-b844124b7f41",
   "metadata": {},
   "source": [
    " ## Naive Bayes Model for Text Classification"
   ]
  },
  {
   "cell_type": "code",
   "execution_count": 30,
   "id": "cbb9fd60-f6a1-4dae-9901-92913f2be90c",
   "metadata": {},
   "outputs": [],
   "source": [
    "#Import Categorical Naive Bayes model\n",
    "from sklearn.naive_bayes import MultinomialNB\n",
    "\n",
    "#Create a Categorical Classifier\n",
    "model = MultinomialNB()\n",
    "\n",
    "# Train the model using the training sets\n",
    "model.fit(X_train,y_train)\n",
    "y_pred = model.predict(X_test)\n"
   ]
  },
  {
   "cell_type": "code",
   "execution_count": 31,
   "id": "d4fd084e-0d46-42eb-bc19-611943c2dfa3",
   "metadata": {},
   "outputs": [],
   "source": [
    "from sklearn.metrics import confusion_matrix, classification_report"
   ]
  },
  {
   "cell_type": "code",
   "execution_count": 32,
   "id": "33096748-e485-436c-bf53-394590f1f916",
   "metadata": {},
   "outputs": [
    {
     "name": "stdout",
     "output_type": "stream",
     "text": [
      "\n",
      "Classification Report:\n",
      "                          precision    recall  f1-score   support\n",
      "\n",
      "             alt.atheism       0.45      0.72      0.55        18\n",
      "           comp.graphics       0.68      0.72      0.70        18\n",
      " comp.os.ms-windows.misc       0.80      0.73      0.76        22\n",
      "comp.sys.ibm.pc.hardware       0.74      0.56      0.64        25\n",
      "   comp.sys.mac.hardware       0.59      0.62      0.60        21\n",
      "          comp.windows.x       0.82      0.72      0.77        25\n",
      "            misc.forsale       0.83      0.56      0.67        18\n",
      "               rec.autos       0.85      0.94      0.89        18\n",
      "         rec.motorcycles       0.57      0.81      0.67        16\n",
      "      rec.sport.baseball       0.76      0.89      0.82        18\n",
      "        rec.sport.hockey       0.83      1.00      0.91        15\n",
      "               sci.crypt       0.78      0.74      0.76        19\n",
      "         sci.electronics       0.41      0.56      0.47        16\n",
      "                 sci.med       0.62      0.76      0.68        17\n",
      "               sci.space       1.00      0.57      0.73        21\n",
      "  soc.religion.christian       0.77      1.00      0.87        23\n",
      "      talk.politics.guns       0.94      0.54      0.68        28\n",
      "   talk.politics.mideast       0.94      0.75      0.83        20\n",
      "      talk.politics.misc       0.34      0.67      0.45        18\n",
      "      talk.religion.misc       0.80      0.17      0.28        24\n",
      "\n",
      "                accuracy                           0.69       400\n",
      "               macro avg       0.73      0.70      0.69       400\n",
      "            weighted avg       0.74      0.69      0.68       400\n",
      "\n"
     ]
    }
   ],
   "source": [
    "print(\"\\nClassification Report:\")\n",
    "print(classification_report(y_test,y_pred))"
   ]
  },
  {
   "cell_type": "markdown",
   "id": "6c87c6d7-01d7-4911-a2cb-fce5039469d4",
   "metadata": {},
   "source": [
    "## Sentiment Analysis"
   ]
  },
  {
   "cell_type": "code",
   "execution_count": 33,
   "id": "fde1cd3b-33c3-4b2e-8beb-477b6bc48907",
   "metadata": {},
   "outputs": [
    {
     "name": "stdout",
     "output_type": "stream",
     "text": [
      "Requirement already satisfied: nltk in c:\\users\\admin\\anaconda3\\lib\\site-packages (3.9.1)\n",
      "Requirement already satisfied: click in c:\\users\\admin\\anaconda3\\lib\\site-packages (from nltk) (8.1.7)\n",
      "Requirement already satisfied: joblib in c:\\users\\admin\\anaconda3\\lib\\site-packages (from nltk) (1.4.2)\n",
      "Requirement already satisfied: regex>=2021.8.3 in c:\\users\\admin\\anaconda3\\lib\\site-packages (from nltk) (2024.9.11)\n",
      "Requirement already satisfied: tqdm in c:\\users\\admin\\anaconda3\\lib\\site-packages (from nltk) (4.66.5)\n",
      "Requirement already satisfied: colorama in c:\\users\\admin\\anaconda3\\lib\\site-packages (from click->nltk) (0.4.6)\n"
     ]
    }
   ],
   "source": [
    "!pip install nltk"
   ]
  },
  {
   "cell_type": "code",
   "execution_count": 34,
   "id": "b8f3bebb-d0d7-43ed-8664-3b8998e8cae8",
   "metadata": {},
   "outputs": [],
   "source": [
    "import nltk"
   ]
  },
  {
   "cell_type": "code",
   "execution_count": 35,
   "id": "f71ee07d-e1c5-406e-ad65-28998504e5df",
   "metadata": {},
   "outputs": [
    {
     "name": "stderr",
     "output_type": "stream",
     "text": [
      "[nltk_data] Downloading package vader_lexicon to\n",
      "[nltk_data]     C:\\Users\\Admin\\AppData\\Roaming\\nltk_data...\n",
      "[nltk_data]   Package vader_lexicon is already up-to-date!\n"
     ]
    },
    {
     "data": {
      "text/plain": [
       "True"
      ]
     },
     "execution_count": 35,
     "metadata": {},
     "output_type": "execute_result"
    }
   ],
   "source": [
    "nltk.download('vader_lexicon')"
   ]
  },
  {
   "cell_type": "code",
   "execution_count": 36,
   "id": "2daff972-abba-41db-a7f1-ca152edede39",
   "metadata": {},
   "outputs": [],
   "source": [
    "from nltk.sentiment.vader import SentimentIntensityAnalyzer"
   ]
  },
  {
   "cell_type": "code",
   "execution_count": 37,
   "id": "96c39801-cb4a-42eb-af8c-d517e7e1db1c",
   "metadata": {},
   "outputs": [],
   "source": [
    "sia = SentimentIntensityAnalyzer()\n"
   ]
  },
  {
   "cell_type": "code",
   "execution_count": 38,
   "id": "da067706-5a3b-42ce-9f66-1011ae9f9938",
   "metadata": {},
   "outputs": [],
   "source": [
    "sentiments = []\n",
    "for post in data['Data']:\n",
    "    sentiment_score = sia.polarity_scores(post)\n",
    "    if sentiment_score['compound'] >= 0.05:\n",
    "        sentiment = 'positive'\n",
    "    elif sentiment_score['compound'] <= -0.05:\n",
    "        sentiment = 'negative'\n",
    "    else:\n",
    "        sentiment = 'neutral'\n",
    "    sentiments.append(sentiment)\n",
    "\n",
    "data['Sentiment'] = sentiments"
   ]
  },
  {
   "cell_type": "markdown",
   "id": "daf77841-996d-4f39-8135-578a85e05c2c",
   "metadata": {},
   "source": [
    "## Evaluation"
   ]
  },
  {
   "cell_type": "code",
   "execution_count": 39,
   "id": "2ef3cfd8-6c4d-4e90-bf5d-4f479995f82a",
   "metadata": {},
   "outputs": [
    {
     "name": "stdout",
     "output_type": "stream",
     "text": [
      "\n",
      "Sentiment Distribution Across Categories:\n",
      "Sentiment                 negative  neutral  positive\n",
      "Labels                                               \n",
      "alt.atheism                     42        1        57\n",
      "comp.graphics                   14        2        84\n",
      "comp.os.ms-windows.misc         25        1        74\n",
      "comp.sys.ibm.pc.hardware        20        3        77\n",
      "comp.sys.mac.hardware           27        3        70\n",
      "comp.windows.x                  19        3        78\n",
      "misc.forsale                     8       11        81\n",
      "rec.autos                       26        2        72\n",
      "rec.motorcycles                 32        3        65\n",
      "rec.sport.baseball              26        2        72\n",
      "rec.sport.hockey                33        1        66\n",
      "sci.crypt                       27        2        71\n",
      "sci.electronics                 19        4        77\n",
      "sci.med                         34        1        65\n",
      "sci.space                       34        4        62\n",
      "soc.religion.christian          26        4        70\n",
      "talk.politics.guns              67        3        30\n",
      "talk.politics.mideast           68        1        31\n",
      "talk.politics.misc              52        3        45\n",
      "talk.religion.misc              37        1        62\n"
     ]
    }
   ],
   "source": [
    "# Evaluate sentiment distribution across different categories\n",
    "sentiment_category_distribution = data.groupby(['Labels', 'Sentiment']).size().unstack(fill_value=0)\n",
    "print(\"\\nSentiment Distribution Across Categories:\")\n",
    "print(sentiment_category_distribution)"
   ]
  },
  {
   "cell_type": "code",
   "execution_count": 1,
   "id": "683396c8-0483-4649-8bc6-64a52a46a013",
   "metadata": {},
   "outputs": [],
   "source": [
    "#end"
   ]
  },
  {
   "cell_type": "code",
   "execution_count": null,
   "id": "2e15fd6d-8984-427b-91ba-9486a835e497",
   "metadata": {},
   "outputs": [],
   "source": []
  }
 ],
 "metadata": {
  "kernelspec": {
   "display_name": "Python 3 (ipykernel)",
   "language": "python",
   "name": "python3"
  },
  "language_info": {
   "codemirror_mode": {
    "name": "ipython",
    "version": 3
   },
   "file_extension": ".py",
   "mimetype": "text/x-python",
   "name": "python",
   "nbconvert_exporter": "python",
   "pygments_lexer": "ipython3",
   "version": "3.12.7"
  }
 },
 "nbformat": 4,
 "nbformat_minor": 5
}
