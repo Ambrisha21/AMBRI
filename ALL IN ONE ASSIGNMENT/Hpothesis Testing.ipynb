{
 "cells": [
  {
   "cell_type": "markdown",
   "id": "675b1890-31ac-4b91-b34b-092b921e1f1d",
   "metadata": {},
   "source": [
    "# Chi-Square Test"
   ]
  },
  {
   "cell_type": "markdown",
   "id": "26dd5610-b07e-4716-9650-7bf8b635e326",
   "metadata": {},
   "source": [
    "Association between Device Type and Customer Satisfaction\n",
    "#Background:\n",
    "Mizzare Corporation has collected data on customer satisfaction levels for two types of smart home devices: Smart Thermostats and Smart Lights. They want to determine if there's a significant association between the type of device purchased and the customer's satisfaction level.\n",
    "#Data Provided:\n",
    "The data is summarized in a contingency table showing the counts of customers in each satisfaction level for both types of devices:\n",
    "Satisfaction\tSmart Thermostat\tSmart Light\tTotal\n",
    "Very Satisfied\t50\t70\t120\n",
    "Satisfied\t80\t100\t180\n",
    "Neutral\t60\t90\t150\n",
    "Unsatisfied\t30\t50\t80\n",
    "Very Unsatisfied\t20\t50\t70\n",
    "Total\t240\t360\t600\n",
    "#Objective:\n",
    "#To use the Chi-Square test for independence to determine if there's a significant association between the type of smart home device purchased (Smart Thermostats vs. Smart Lights) and the customer satisfaction level.\n",
    "#Assignment Tasks:\n",
    "1. State the Hypotheses:\n",
    "2. Compute the Chi-Square Statistic:\n",
    "3. Determine the Critical Value:\n",
    "Using the significance level (alpha) of 0.05 and the degrees of freedom (which is the number of categories minus 1)\n",
    "4. Make a Decision:\n",
    "Compare the Chi-Square statistic with the critical value to decide whether to reject the null hypothesis.\n",
    "#Submission Guidelines:\n",
    "•\tProvide a detailed report of your analysis, including each step outlined in the assignment tasks in a python file.\n",
    "•\tInclude all calculations, the Chi-Square statistic, the critical value, and your conclusion.\n"
   ]
  },
  {
   "cell_type": "code",
   "execution_count": 3,
   "id": "cb12b3ff-7e0d-468c-8b59-0023314e716f",
   "metadata": {},
   "outputs": [],
   "source": [
    "import numpy as np \n",
    "import scipy.stats as stats\n"
   ]
  },
  {
   "cell_type": "markdown",
   "id": "8355d72c-c859-4aff-b71c-85c0c19a0bb2",
   "metadata": {},
   "source": [
    "1.Hypothesis"
   ]
  },
  {
   "cell_type": "code",
   "execution_count": 5,
   "id": "66a9ae43-87e6-4bb9-ab02-88a72f798611",
   "metadata": {},
   "outputs": [],
   "source": [
    "#A hypothesis is an educated guess or prediction about the relationship between two variables that can be tested with observable evidence.\n"
   ]
  },
  {
   "cell_type": "code",
   "execution_count": 6,
   "id": "37a579da-2488-4376-82d6-8f24b06d1735",
   "metadata": {},
   "outputs": [],
   "source": [
    "#Ho--there is no significant association between the type of device purchased and the customer's satisfaction level for both type of devices. \n",
    "#Ha--there is significant association between the type of device purchased and the customer's satisfaction level for both type of devices."
   ]
  },
  {
   "cell_type": "markdown",
   "id": "71d912e7-43d5-4e42-9e99-dc36e645d1bb",
   "metadata": {},
   "source": [
    "2.computing the chi-square"
   ]
  },
  {
   "cell_type": "code",
   "execution_count": 8,
   "id": "8fa3469c-e12c-4c4e-8026-aeec7b4e3c2f",
   "metadata": {},
   "outputs": [],
   "source": [
    "# Observed data\n",
    "observed = np.array([\n",
    "    [50, 70],\n",
    "    [80, 100],\n",
    "    [60, 90],\n",
    "    [30, 50],\n",
    "    [20, 50]\n",
    "])"
   ]
  },
  {
   "cell_type": "code",
   "execution_count": 9,
   "id": "3cb094e3-3e75-4cfc-b39e-48fec966b3cd",
   "metadata": {},
   "outputs": [
    {
     "data": {
      "text/plain": [
       "(array([120, 180, 150,  80,  70]), array([240, 360]), 600)"
      ]
     },
     "execution_count": 9,
     "metadata": {},
     "output_type": "execute_result"
    }
   ],
   "source": [
    "# Row and column totals\n",
    "row_totals = observed.sum(axis=1)#row -1\n",
    "column_totals = observed.sum(axis=0)#col-0\n",
    "grand_total = observed.sum()\n",
    "row_totals,column_totals,grand_total"
   ]
  },
  {
   "cell_type": "code",
   "execution_count": 10,
   "id": "513ea073-a0d8-42d7-b6e7-4e1b2c081977",
   "metadata": {},
   "outputs": [
    {
     "data": {
      "text/plain": [
       "array([[ 48.,  72.],\n",
       "       [ 72., 108.],\n",
       "       [ 60.,  90.],\n",
       "       [ 32.,  48.],\n",
       "       [ 28.,  42.]])"
      ]
     },
     "execution_count": 10,
     "metadata": {},
     "output_type": "execute_result"
    }
   ],
   "source": [
    "# Expected frequencies\n",
    "expected = np.outer(row_totals, column_totals) / grand_total\n",
    "expected"
   ]
  },
  {
   "cell_type": "code",
   "execution_count": 11,
   "id": "a1908b46-a2f9-443a-8575-d9042a88528e",
   "metadata": {},
   "outputs": [
    {
     "data": {
      "text/plain": [
       "5.638227513227513"
      ]
     },
     "execution_count": 11,
     "metadata": {},
     "output_type": "execute_result"
    }
   ],
   "source": [
    "# Chi-square statistic #Formula for chi2-stats\n",
    "chi2_stat = ((observed - expected) ** 2 / expected).sum()\n",
    "chi2_stat"
   ]
  },
  {
   "cell_type": "markdown",
   "id": "38a69c88-bab0-405d-ae89-5eb0b94fff83",
   "metadata": {},
   "source": [
    "3.Critical value"
   ]
  },
  {
   "cell_type": "code",
   "execution_count": 13,
   "id": "ba72430c-3294-4e47-b661-3f291fe24491",
   "metadata": {},
   "outputs": [
    {
     "data": {
      "text/plain": [
       "4"
      ]
     },
     "execution_count": 13,
     "metadata": {},
     "output_type": "execute_result"
    }
   ],
   "source": [
    "# Degrees of freedom\n",
    "df=(observed.shape[0]-1)*(observed.shape[1]-1) #here 0,1 is row and column\n",
    "df"
   ]
  },
  {
   "cell_type": "code",
   "execution_count": 14,
   "id": "2e8f3a8b-3b20-47b8-aaf4-f1150e458a90",
   "metadata": {},
   "outputs": [
    {
     "data": {
      "text/plain": [
       "0.22784371130697179"
      ]
     },
     "execution_count": 14,
     "metadata": {},
     "output_type": "execute_result"
    }
   ],
   "source": [
    "# p-value -- cdf\n",
    "p_value = 1 - stats.chi2.cdf(chi2_stat, df)#cdf--Cumulative Distribution functin\n",
    "p_value"
   ]
  },
  {
   "cell_type": "code",
   "execution_count": 15,
   "id": "d51fa6bd-de8b-49c2-b837-5800b62e724f",
   "metadata": {},
   "outputs": [
    {
     "data": {
      "text/plain": [
       "9.487729036781154"
      ]
     },
     "execution_count": 15,
     "metadata": {},
     "output_type": "execute_result"
    }
   ],
   "source": [
    "#Critical Value \n",
    "chi2_critical=stats.chi2.ppf(0.95,4)\n",
    "chi2_critical"
   ]
  },
  {
   "cell_type": "code",
   "execution_count": 16,
   "id": "40b92358-f1b3-4ae9-ae37-124ca43379d5",
   "metadata": {},
   "outputs": [
    {
     "data": {
      "text/plain": [
       "Chi2ContingencyResult(statistic=5.638227513227513, pvalue=0.22784371130697179, dof=4, expected_freq=array([[ 48.,  72.],\n",
       "       [ 72., 108.],\n",
       "       [ 60.,  90.],\n",
       "       [ 32.,  48.],\n",
       "       [ 28.,  42.]]))"
      ]
     },
     "execution_count": 16,
     "metadata": {},
     "output_type": "execute_result"
    }
   ],
   "source": [
    "chi2_stats=stats.chi2_contingency(observed)\n",
    "chi2_stats"
   ]
  },
  {
   "cell_type": "markdown",
   "id": "21eb5c4e-7582-43f9-b0ff-092a022b704e",
   "metadata": {},
   "source": [
    "4. Decision"
   ]
  },
  {
   "cell_type": "code",
   "execution_count": 18,
   "id": "74f448c3-a34e-445e-8e48-49d5aebcd1db",
   "metadata": {},
   "outputs": [],
   "source": [
    "#since , chi2_stats < chi2_critical --- fail to reject the Null hypothesis(Ho)\n",
    "#there is no significant association between the type of device purchased and the customer's satisfaction level for both type of devices."
   ]
  },
  {
   "cell_type": "code",
   "execution_count": 19,
   "id": "3f0b48e7-b658-4212-95cb-fd189a900e32",
   "metadata": {},
   "outputs": [],
   "source": [
    "#end"
   ]
  },
  {
   "cell_type": "markdown",
   "id": "566d7464-7318-4a1f-a70a-31b9085d9bda",
   "metadata": {},
   "source": [
    "# Hypothesis testing"
   ]
  },
  {
   "cell_type": "raw",
   "id": "589f8f09-15a3-4c8a-954c-2d9e396e12a4",
   "metadata": {},
   "source": [
    "Background:\n",
    "Bombay hospitality Ltd. operates a franchise model for producing exotic Norwegian dinners throughout New England. The operating cost for a franchise in a week (W) is given by the equation W = $1,000 + $5X, where X represents the number of units produced in a week. Recent feedback from restaurant owners suggests that this cost model may no longer be accurate, as their observed weekly operating costs are higher.\n",
    "Objective:\n",
    "To investigate the restaurant owners' claim about the increase in weekly operating costs using hypothesis testing.\n",
    "Data Provided:\n",
    "•\tThe theoretical weekly operating cost model: W = $1,000 + $5X\n",
    "•\tSample of 25 restaurants with a mean weekly cost of Rs. 3,050\n",
    "•\tNumber of units produced in a week (X) follows a normal distribution with a mean (μ) of 600 units and a standard deviation (σ) of 25 units\n",
    "Assignment Tasks:\n",
    "1. State the Hypotheses statement:\n",
    "2. Calculate the Test Statistic:\n",
    "Use the following formula to calculate the test statistic (t):\n",
    "where:\n",
    "•\tˉxˉ = sample mean weekly cost (Rs. 3,050)\n",
    "•\tμ = theoretical mean weekly cost according to the cost model (W = $1,000 + $5X for X = 600 units)\n",
    "•\tσ = 5*25 units\n",
    "•\tn = sample size (25 restaurants)\n",
    "3. Determine the Critical Value:\n",
    "Using the alpha level of 5% (α = 0.05), determine the critical value from the standard normal (Z) distribution table.\n",
    "4. Make a Decision:\n",
    "Compare the test statistic with the critical value to decide whether to reject the null hypothesis.\n",
    "5. Conclusion:\n",
    "Based on the decision in step 4, conclude whether there is strong evidence to support the restaurant owners' claim that the weekly operating costs are higher than the model suggests.\n",
    "\n",
    "Submission Guidelines:\n",
    "•\tPrepare python file detailing each step of your hypothesis testing process.\n",
    "•\tInclude calculations for the test statistic and the critical value.\n",
    "•\tProvide a clear conclusion based on your analysis.\n"
   ]
  },
  {
   "cell_type": "code",
   "execution_count": 21,
   "id": "2dd10213-7388-44df-84d5-c8c1847166b2",
   "metadata": {},
   "outputs": [],
   "source": [
    "import scipy.stats as stats\n",
    "import numpy as np"
   ]
  },
  {
   "cell_type": "raw",
   "id": "18c73d15-be86-420a-91ed-500d46f7bb0d",
   "metadata": {},
   "source": [
    "1.statement"
   ]
  },
  {
   "cell_type": "code",
   "execution_count": 22,
   "id": "4855747a-252b-43bb-879a-15acfadf63d3",
   "metadata": {},
   "outputs": [],
   "source": [
    "#Ho--- The weekly operating cost has not increased,and is equal to predict cost model\n",
    "#Ha---The weekly operating cost has increased "
   ]
  },
  {
   "cell_type": "code",
   "execution_count": 23,
   "id": "0bf4142d-ef79-4742-bd2a-ffa4680263ff",
   "metadata": {},
   "outputs": [],
   "source": [
    "#given\n",
    "#W=$1,000+$5X #X no.of units produced in weeks\n",
    "n=25 #sample size\n",
    "x_bar=3050 #weekly costRs.3,050\n",
    "Mean=4000 # 600units(W = $1,000 + $5X for X = 600 units)\n",
    "Std=5*25 # sigma of 25 units\n",
    "alpha=0.05 #CI= 1-alpha =0.95\n"
   ]
  },
  {
   "cell_type": "code",
   "execution_count": 24,
   "id": "f9f27076-9985-4e24-8719-c606953938c7",
   "metadata": {},
   "outputs": [],
   "source": [
    "#z-score = (X_bar-mu(pop-mean))/(sigma(pop-std)/square(n))"
   ]
  },
  {
   "cell_type": "code",
   "execution_count": 25,
   "id": "52afe03a-442a-430e-826b-b8b3096bdbb2",
   "metadata": {},
   "outputs": [
    {
     "data": {
      "text/plain": [
       "-38.0"
      ]
     },
     "execution_count": 25,
     "metadata": {},
     "output_type": "execute_result"
    }
   ],
   "source": [
    "Z_score= (x_bar-Mean)/(Std/np.sqrt(n))\n",
    "Z_score"
   ]
  },
  {
   "cell_type": "code",
   "execution_count": 26,
   "id": "e9f39174-5d34-48ce-8da9-114c84567083",
   "metadata": {},
   "outputs": [
    {
     "data": {
      "text/plain": [
       "-38.0"
      ]
     },
     "execution_count": 26,
     "metadata": {},
     "output_type": "execute_result"
    }
   ],
   "source": [
    "(3050-4000)/((5*25)/np.sqrt(25))"
   ]
  },
  {
   "cell_type": "code",
   "execution_count": 27,
   "id": "9e5ededd-7151-48ef-9c2a-9eeb53e9caeb",
   "metadata": {},
   "outputs": [
    {
     "data": {
      "text/plain": [
       "1.959963984540054"
      ]
     },
     "execution_count": 27,
     "metadata": {},
     "output_type": "execute_result"
    }
   ],
   "source": [
    "Z_critical=stats.norm.ppf(0.975)\n",
    "Z_critical"
   ]
  },
  {
   "cell_type": "code",
   "execution_count": 28,
   "id": "f10f9c93-9e7b-4b31-b638-8c6f374e6120",
   "metadata": {},
   "outputs": [
    {
     "data": {
      "text/plain": [
       "0.975"
      ]
     },
     "execution_count": 28,
     "metadata": {},
     "output_type": "execute_result"
    }
   ],
   "source": [
    "1-alpha/2"
   ]
  },
  {
   "cell_type": "code",
   "execution_count": 29,
   "id": "bcba7a13-cee8-4cda-8936-5dd970e59fe2",
   "metadata": {},
   "outputs": [
    {
     "data": {
      "text/plain": [
       "(3098.999099613501, 3001.000900386499)"
      ]
     },
     "execution_count": 29,
     "metadata": {},
     "output_type": "execute_result"
    }
   ],
   "source": [
    "x_bar+(Z_critical*(Std/np.sqrt(n))),x_bar-(Z_critical*(Std/np.sqrt(n)))"
   ]
  },
  {
   "cell_type": "code",
   "execution_count": 30,
   "id": "636a489a-c798-44f3-a181-794a0c97b782",
   "metadata": {},
   "outputs": [],
   "source": [
    "#since Z-score < Z-critical --  we fail to reject null hypothesis \n",
    "#Ho--- The weekly operating cost has not increased,is equal to predict cost model.\n",
    "#There is not enough evidence to support the claim that the weekly operating costs have increased. "
   ]
  },
  {
   "cell_type": "code",
   "execution_count": null,
   "id": "65d8e4e4-6420-4ab8-ac01-d3f5a2013364",
   "metadata": {},
   "outputs": [],
   "source": []
  },
  {
   "cell_type": "code",
   "execution_count": null,
   "id": "f67d3c6e-de66-4b79-b3c4-a1706a2db7c5",
   "metadata": {},
   "outputs": [],
   "source": []
  },
  {
   "cell_type": "code",
   "execution_count": null,
   "id": "419b5ef0-21db-4a9f-87bf-181c0a067b5a",
   "metadata": {},
   "outputs": [],
   "source": []
  }
 ],
 "metadata": {
  "kernelspec": {
   "display_name": "Python 3 (ipykernel)",
   "language": "python",
   "name": "python3"
  },
  "language_info": {
   "codemirror_mode": {
    "name": "ipython",
    "version": 3
   },
   "file_extension": ".py",
   "mimetype": "text/x-python",
   "name": "python",
   "nbconvert_exporter": "python",
   "pygments_lexer": "ipython3",
   "version": "3.12.4"
  }
 },
 "nbformat": 4,
 "nbformat_minor": 5
}
