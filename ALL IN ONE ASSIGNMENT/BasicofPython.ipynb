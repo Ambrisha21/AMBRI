{
 "cells": [
  {
   "cell_type": "markdown",
   "id": "c734b17d-a5c2-4a14-bdad-8ba6990d7902",
   "metadata": {},
   "source": [
    "## Basic of Python"
   ]
  },
  {
   "cell_type": "markdown",
   "id": "3f920e06-02a3-400a-9968-a2553b53aacb",
   "metadata": {},
   "source": [
    "1.Write a Python program that checks whether a given number is prime or not. A prime number is a natural number greater than 1 that has no positive divisors other than 1 and itself.¶"
   ]
  },
  {
   "cell_type": "code",
   "execution_count": 3,
   "id": "f354f7e5-ad66-4988-814d-75308e36e2ab",
   "metadata": {},
   "outputs": [
    {
     "name": "stdin",
     "output_type": "stream",
     "text": [
      "Enter a Number: 22\n"
     ]
    },
    {
     "name": "stdout",
     "output_type": "stream",
     "text": [
      "22 is not a Prime Number\n"
     ]
    }
   ],
   "source": [
    "n=int(input('Enter a Number:'))#done\n",
    "for  i in range(2,n):\n",
    "   if (n%i==0):\n",
    "    print(f'{n} is not a Prime Number')\n",
    "    break\n",
    "else:\n",
    "    (n%1==0)\n",
    "    print(f'{n} is a Prime Number ')"
   ]
  },
  {
   "cell_type": "markdown",
   "id": "dc6273cd-7e7e-48e5-8117-ed206e2e1f1c",
   "metadata": {},
   "source": [
    "2.Develop a Python program that generates two random numbers and asks the user to enter the product of these numbers. The program should then check if the user's answer is correct and display an appropriate message.¶"
   ]
  },
  {
   "cell_type": "code",
   "execution_count": null,
   "id": "b55c3145-18e0-4dc4-b90a-51d148c63187",
   "metadata": {},
   "outputs": [],
   "source": [
    "import random\n",
    "num1=random.randint(1,10)\n",
    "num2=random.randint(1,10)\n",
    "user=int(input(f'What is {num1} * {num2} :'))\n",
    "answer=num1*num2\n",
    "\n",
    "if answer==user:\n",
    "    print('Correct')\n",
    "else:\n",
    "    answer!=user\n",
    "    print('Incorrect!')\n",
    "    print(f'Answer:{answer}')"
   ]
  },
  {
   "cell_type": "markdown",
   "id": "5f97257d-500f-4233-8778-d4c58427f275",
   "metadata": {},
   "source": [
    "3. Create a Python script that prints the squares of all even or odd numbers within the range of 100 to 200. Choose either even or odd numbers and document your choice in the code."
   ]
  },
  {
   "cell_type": "code",
   "execution_count": null,
   "id": "64274835-8c37-448c-8b39-d5167da0cf55",
   "metadata": {},
   "outputs": [],
   "source": [
    "'''def even_square(range):\n",
    "    for i in range(100,201):\n",
    "        if i % 2 == 0:\n",
    "            number = i**2\n",
    "            square = number\n",
    "            print(f'the square of {i}:{square}')\n",
    "even_square(range)'''\n",
    "def odd_square(range):\n",
    "    for i in range(100,201):\n",
    "        if i % 2 == 1:\n",
    "            number = i**2\n",
    "            square = number\n",
    "            print(f'the square of {i}:{square}')\n",
    "odd_square(range)"
   ]
  },
  {
   "cell_type": "markdown",
   "id": "71aa5e16-a2a4-41dd-b069-ead21343b13e",
   "metadata": {},
   "source": [
    "4.write a program to count the number of words in a given text."
   ]
  },
  {
   "cell_type": "code",
   "execution_count": null,
   "id": "aff3893a-3791-4f38-8e72-006e864556de",
   "metadata": {},
   "outputs": [],
   "source": [
    "# Python is popular programming Languages.In data science ,python is used for data analytics and visualizations.\n",
    "def frequency(text):\n",
    "    word = {}\n",
    "    sp = text.split()\n",
    "    for i in sp:\n",
    "        if i in word:\n",
    "            word[i] = word.get(i) + 1\n",
    "        else:\n",
    "            word[i] = 1\n",
    "            \n",
    "    print(word)\n",
    "\n",
    "text = 'Python is popular programming Languages. In data science, python is used for data analytics and visualizations.'\n",
    "frequency(text)\n"
   ]
  },
  {
   "cell_type": "markdown",
   "id": "adff586f-3b64-46a1-badb-63ebef4fe685",
   "metadata": {},
   "source": [
    "5.Write a Python function called is_palindrome that takes a string as input and returns True if the string is a palindrome, and False otherwise. A palindrome is a word, phrase, number, or other sequence of characters that reads the same forward and backward, ignoring spaces, punctuation, and capitalization"
   ]
  },
  {
   "cell_type": "code",
   "execution_count": 12,
   "id": "db660186-fd36-4f53-ba7c-26d8a8e4a4eb",
   "metadata": {},
   "outputs": [
    {
     "name": "stdout",
     "output_type": "stream",
     "text": [
      "' A man,'a plan', a canal!?: Panama'is a palindrome\n",
      "'race   a  car'is a palindrome\n",
      "'12321'is a palindrome\n",
      "'racecar'is a palindrome\n"
     ]
    }
   ],
   "source": [
    "## function which return reverse of a string\n",
    "def palindrome(text):\n",
    "    text=''.join(i.lower() for i in text if i.isalnum()) #for ignore punctuation,captilaziation\n",
    "    space=text.strip() #for ignore spaces\n",
    "    clean=text,space # in one variable\n",
    "    return clean == clean[::-1] # this main line to get output(return reverse)\n",
    "\n",
    "def test_palindrome():\n",
    "    test = [\" A man,'a plan', a canal!?: Panama\",\"race   a  car\",\"12321\",\"racecar\"] \n",
    "    \n",
    "    for case in test:\n",
    "        result= \"is\" if palindrome(case)else \"is not\"\n",
    "        print(f\"'{case}'{result} a palindrome\")\n",
    "\n",
    "test_palindrome()"
   ]
  },
  {
   "cell_type": "code",
   "execution_count": null,
   "id": "b62ea93e-56ed-466f-abb2-a5f8f2e3a698",
   "metadata": {},
   "outputs": [],
   "source": []
  },
  {
   "cell_type": "code",
   "execution_count": null,
   "id": "979440bb-395d-4795-b532-76e8d2694491",
   "metadata": {},
   "outputs": [],
   "source": []
  }
 ],
 "metadata": {
  "kernelspec": {
   "display_name": "Python 3 (ipykernel)",
   "language": "python",
   "name": "python3"
  },
  "language_info": {
   "codemirror_mode": {
    "name": "ipython",
    "version": 3
   },
   "file_extension": ".py",
   "mimetype": "text/x-python",
   "name": "python",
   "nbconvert_exporter": "python",
   "pygments_lexer": "ipython3",
   "version": "3.12.4"
  }
 },
 "nbformat": 4,
 "nbformat_minor": 5
}
