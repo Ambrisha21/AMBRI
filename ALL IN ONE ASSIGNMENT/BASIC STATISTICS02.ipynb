{
 "cells": [
  {
   "cell_type": "markdown",
   "id": "ccd6e945-50a7-4272-9393-b9bb3426aec1",
   "metadata": {},
   "source": [
    "\n",
    "Background\n",
    "In quality control processes, especially when dealing with high-value items, destructive sampling is a necessary but costly method to ensure product quality. The test to determine whether an item meets the quality standards destroys the item, leading to the requirement of small sample sizes due to cost constraints.\n",
    "Scenario\n",
    "A manufacturer of print-heads for personal computers is interested in estimating the mean durability of their print-heads in terms of the number of characters printed before failure. To assess this, the manufacturer conducts a study on a small sample of print-heads due to the destructive nature of the testing process.\n",
    "Data\n",
    "A total of 15 print-heads were randomly selected and tested until failure. The durability of each print-head (in millions of characters) was recorded as follows:\n",
    "1.13, 1.55, 1.43, 0.92, 1.25, 1.36, 1.32, 0.85, 1.07, 1.48, 1.20, 1.33, 1.18, 1.22, 1.29\n",
    "\n",
    "# Assignment Tasks\n",
    "\n",
    "a. Build 99% Confidence Interval Using Sample Standard Deviation\n",
    "Assuming the sample is representative of the population, construct a 99% confidence interval for the mean number of characters printed before the print-head fails using the sample standard deviation. Explain the steps you take and the rationale behind using the t-distribution for this task.\n",
    "\n",
    "b. Build 99% Confidence Interval Using Known Population Standard Deviation\n",
    "If it were known that the population standard deviation is 0.2 million characters, construct a 99% confidence interval for the mean number of characters printed before failure.\n"
   ]
  },
  {
   "cell_type": "code",
   "execution_count": 4,
   "id": "1e669d02-4c81-4bc0-b4d7-6bac8e15865f",
   "metadata": {},
   "outputs": [],
   "source": [
    "import numpy as np\n",
    "import scipy.stats as stats"
   ]
  },
  {
   "cell_type": "code",
   "execution_count": 5,
   "id": "1350ea53-8466-4a92-bd8d-c7e469250067",
   "metadata": {},
   "outputs": [],
   "source": [
    "#here why we take the t -distribution ,because the give data ,have only the datapoints and sample size , CI \n",
    "#if sigma is unknow then go for t-test"
   ]
  },
  {
   "cell_type": "code",
   "execution_count": 6,
   "id": "f4eea08f-c04c-4b4d-af4e-9660ef89937f",
   "metadata": {},
   "outputs": [],
   "source": [
    "X=[1.13, 1.55, 1.43, 0.92, 1.25, 1.36, 1.32, 0.85, 1.07, 1.48, 1.20, 1.33, 1.18, 1.22, 1.29]\n",
    "#CI=99%=0.99\n",
    "#alpha --- 1-CI = 1- 0.99 = 0.01(1%) alpha"
   ]
  },
  {
   "cell_type": "code",
   "execution_count": 7,
   "id": "0968b240-68ac-4772-9ac3-a7810133f86b",
   "metadata": {},
   "outputs": [
    {
     "data": {
      "text/plain": [
       "15"
      ]
     },
     "execution_count": 7,
     "metadata": {},
     "output_type": "execute_result"
    }
   ],
   "source": [
    "n= len(X)\n",
    "n"
   ]
  },
  {
   "cell_type": "code",
   "execution_count": 8,
   "id": "6ff89f03-d01b-44a4-bb66-53eb47e202b9",
   "metadata": {},
   "outputs": [
    {
     "data": {
      "text/plain": [
       "1.2386666666666666"
      ]
     },
     "execution_count": 8,
     "metadata": {},
     "output_type": "execute_result"
    }
   ],
   "source": [
    "sample_mean=np.mean(X)\n",
    "sample_mean"
   ]
  },
  {
   "cell_type": "code",
   "execution_count": 9,
   "id": "e99b22f7-ef36-4568-bee1-b956bc05e4c8",
   "metadata": {},
   "outputs": [
    {
     "data": {
      "text/plain": [
       "0.19316412956959936"
      ]
     },
     "execution_count": 9,
     "metadata": {},
     "output_type": "execute_result"
    }
   ],
   "source": [
    "sample_std=np.std(X,ddof=1) \n",
    "sample_std"
   ]
  },
  {
   "cell_type": "code",
   "execution_count": 10,
   "id": "72133f3d-5c68-4c8d-82e7-4d9f52342232",
   "metadata": {},
   "outputs": [
    {
     "data": {
      "text/plain": [
       "0.010000000000000009"
      ]
     },
     "execution_count": 10,
     "metadata": {},
     "output_type": "execute_result"
    }
   ],
   "source": [
    "CI=0.99\n",
    "alpha=1-CI\n",
    "alpha"
   ]
  },
  {
   "cell_type": "code",
   "execution_count": 11,
   "id": "c63de99f-a59e-4bac-9ad4-0ef9138a1048",
   "metadata": {},
   "outputs": [
    {
     "data": {
      "text/plain": [
       "2.976842734370834"
      ]
     },
     "execution_count": 11,
     "metadata": {},
     "output_type": "execute_result"
    }
   ],
   "source": [
    "T_score=stats.t.ppf(1-(alpha/2),(n-1))#df=n-1 #t-scorce (T-critical)\n",
    "T_score"
   ]
  },
  {
   "cell_type": "code",
   "execution_count": 12,
   "id": "724006c5-60fa-43b9-81dd-51adb4465a4e",
   "metadata": {},
   "outputs": [
    {
     "data": {
      "text/plain": [
       "0.14846932822817596"
      ]
     },
     "execution_count": 12,
     "metadata": {},
     "output_type": "execute_result"
    }
   ],
   "source": [
    "margin_error=T_score*(sample_std/np.sqrt(n)) \n",
    "margin_error"
   ]
  },
  {
   "cell_type": "code",
   "execution_count": 13,
   "id": "02baee6c-e029-4522-8a93-9b7e486aa401",
   "metadata": {},
   "outputs": [
    {
     "ename": "NameError",
     "evalue": "name 'margin_of_error' is not defined",
     "output_type": "error",
     "traceback": [
      "\u001b[1;31m---------------------------------------------------------------------------\u001b[0m",
      "\u001b[1;31mNameError\u001b[0m                                 Traceback (most recent call last)",
      "Cell \u001b[1;32mIn[13], line 1\u001b[0m\n\u001b[1;32m----> 1\u001b[0m CI_s_sd\u001b[38;5;241m=\u001b[39m(sample_mean \u001b[38;5;241m-\u001b[39m margin_of_error,sample_mean \u001b[38;5;241m+\u001b[39m margin_of_error)\n\u001b[0;32m      2\u001b[0m CI_s_sd\n",
      "\u001b[1;31mNameError\u001b[0m: name 'margin_of_error' is not defined"
     ]
    }
   ],
   "source": [
    "CI_s_sd=(sample_mean - margin_of_error,sample_mean + margin_of_error)\n",
    "CI_s_sd"
   ]
  },
  {
   "cell_type": "code",
   "execution_count": null,
   "id": "8f2f93a6-6fdf-440c-99c8-090b4bf8df1a",
   "metadata": {},
   "outputs": [],
   "source": [
    "#here sigma is known ,thenusing z-test"
   ]
  },
  {
   "cell_type": "code",
   "execution_count": null,
   "id": "c9661408-2f82-49c2-8abe-d6f62fe002eb",
   "metadata": {},
   "outputs": [],
   "source": [
    "#B\n",
    "pop_std=0.2"
   ]
  },
  {
   "cell_type": "code",
   "execution_count": null,
   "id": "58bf2c3b-20b1-4cf9-af6c-bf8ceb0e988e",
   "metadata": {},
   "outputs": [],
   "source": [
    "\n",
    "Z_score=stats.norm.ppf(1-(alpha/2))\n",
    "Z_score"
   ]
  },
  {
   "cell_type": "code",
   "execution_count": null,
   "id": "77495844-1e59-457e-a8fc-f619ca43d730",
   "metadata": {},
   "outputs": [],
   "source": [
    "1-(alpha/2)\n"
   ]
  },
  {
   "cell_type": "code",
   "execution_count": null,
   "id": "6a32dba1-cb93-40cf-9e8e-09b1b164549b",
   "metadata": {},
   "outputs": [],
   "source": [
    "z_s=stats.norm.ppf(0.995)\n",
    "z_s"
   ]
  },
  {
   "cell_type": "code",
   "execution_count": null,
   "id": "666f4fa3-37eb-4ef6-843d-d5c7400e4956",
   "metadata": {},
   "outputs": [],
   "source": [
    "margin_error_pop=Z_score*(pop_std/np.sqrt(n))\n",
    "margin_error_pop\n"
   ]
  },
  {
   "cell_type": "code",
   "execution_count": null,
   "id": "9d47ad2d-9bca-4137-98c4-01d22f6808ec",
   "metadata": {},
   "outputs": [],
   "source": [
    "CI_pop=(sample_mean-margin_error_pop,sample_mean+margin_error_pop)\n",
    "CI_pop"
   ]
  },
  {
   "cell_type": "code",
   "execution_count": null,
   "id": "39afe8cd-a291-4c93-8351-a91329c89e03",
   "metadata": {},
   "outputs": [],
   "source": []
  }
 ],
 "metadata": {
  "kernelspec": {
   "display_name": "Python 3 (ipykernel)",
   "language": "python",
   "name": "python3"
  },
  "language_info": {
   "codemirror_mode": {
    "name": "ipython",
    "version": 3
   },
   "file_extension": ".py",
   "mimetype": "text/x-python",
   "name": "python",
   "nbconvert_exporter": "python",
   "pygments_lexer": "ipython3",
   "version": "3.12.4"
  }
 },
 "nbformat": 4,
 "nbformat_minor": 5
}
